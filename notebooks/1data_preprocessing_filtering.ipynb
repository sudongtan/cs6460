{
 "cells": [
  {
   "cell_type": "code",
   "execution_count": 9,
   "metadata": {},
   "outputs": [],
   "source": [
    "import json\n",
    "import csv\n",
    "import numpy as np\n",
    "import matplotlib.pyplot as plt\n",
    "import pickle\n",
    "from collections import defaultdict\n",
    "import pandas as pd\n",
    "import os"
   ]
  },
  {
   "cell_type": "code",
   "execution_count": 2,
   "metadata": {},
   "outputs": [],
   "source": [
    "# https://sites.google.com/eng.ucsd.edu/ucsdbookgraph/home\n",
    "books_path = '../data_raw/goodreads_books_history_biography.json'\n",
    "reviews_path = '../data_raw/goodreads_interactions_history_biography.json'\n",
    "authors_path = '../data_raw/goodreads_book_authors.json'\n",
    "series_path = '../data_raw/goodreads_book_series.json'\n",
    "data_dir = '../data_raw/'"
   ]
  },
  {
   "cell_type": "code",
   "execution_count": 3,
   "metadata": {},
   "outputs": [],
   "source": [
    "book_header = ['book_id', 'country_code', 'tags', 'series_title', 'series_description', 'title', 'title_without_series', 'average_rating', 'similar_books', 'description', 'authors', 'publisher', 'num_pages', 'publication_year', 'ratings_count']\n",
    "review_header = ['user_id', 'book_id', 'review_id', 'is_read', 'rating', 'date_updated', 'review_text_incomplete']\n",
    "author_header = [\"author_id\", \"name\"]"
   ]
  },
  {
   "cell_type": "code",
   "execution_count": 4,
   "metadata": {},
   "outputs": [
    {
     "name": "stdout",
     "output_type": "stream",
     "text": [
      "71582\n"
     ]
    }
   ],
   "source": [
    "book_author = {}\n",
    "with open(books_path) as j:\n",
    "    for i, line in enumerate(j):\n",
    "        \n",
    "        line = json.loads(line)\n",
    "        #print(line)\n",
    "        #break\n",
    "        book_id = line['book_id']\n",
    "        r_counts = int(line[\"ratings_count\"])\n",
    "        average_rating = float(line[\"average_rating\"])\n",
    "        author_ids = [author['author_id'] for author in line['authors']]\n",
    "        \n",
    "        if r_counts >= 100 and average_rating >= 3.5:\n",
    "            book_author[book_id] = author_ids\n",
    "print(len(book_author))"
   ]
  },
  {
   "cell_type": "code",
   "execution_count": 5,
   "metadata": {},
   "outputs": [
    {
     "name": "stdout",
     "output_type": "stream",
     "text": [
      "761215\n"
     ]
    }
   ],
   "source": [
    "user_ratings = defaultdict(dict)\n",
    "\n",
    "with open(reviews_path) as j:\n",
    "    for i, line in enumerate(j):\n",
    "        line = json.loads(line)\n",
    "        #print(line)\n",
    "        #break\n",
    "        book_id = line['book_id']\n",
    "        user_id = line['user_id']\n",
    "        rating = line[\"rating\"]\n",
    "        user_ratings[user_id][book_id] = rating\n",
    "        \n",
    "print(len(user_ratings))"
   ]
  },
  {
   "cell_type": "code",
   "execution_count": 6,
   "metadata": {},
   "outputs": [
    {
     "name": "stdout",
     "output_type": "stream",
     "text": [
      "45965\n"
     ]
    }
   ],
   "source": [
    "user_book_rating = defaultdict(dict)\n",
    "\n",
    "for i, book_rating in user_ratings.items():\n",
    "    \n",
    "    book_rating_valid = defaultdict(dict)\n",
    "    for book, rating in book_rating.items():\n",
    "        if book in book_author:\n",
    "            book_rating_valid[book] = rating\n",
    "            \n",
    "    book_rating_nonzero = defaultdict(dict)\n",
    "    for book, rating in book_rating_valid.items():\n",
    "        if int(rating) != 0:\n",
    "            book_rating_nonzero[book] = rating\n",
    "            \n",
    "    if len(book_rating_nonzero) > 50:\n",
    "        user_book_rating[i] = book_rating_valid\n",
    "print(len(user_book_rating))"
   ]
  },
  {
   "cell_type": "code",
   "execution_count": 7,
   "metadata": {},
   "outputs": [
    {
     "name": "stdout",
     "output_type": "stream",
     "text": [
      "71217\n"
     ]
    }
   ],
   "source": [
    "book_user_rating = defaultdict(dict)\n",
    "\n",
    "for user, book_rating in user_book_rating.items():\n",
    "    for book, rating in book_rating.items():\n",
    "        book_user_rating[book][user] = rating\n",
    "print(len(book_user_rating))"
   ]
  },
  {
   "cell_type": "code",
   "execution_count": 10,
   "metadata": {},
   "outputs": [],
   "source": [
    "with open(os.path.join(data_dir, 'book_user_rating.pickle'), 'wb') as handle:\n",
    "    pickle.dump(book_user_rating, handle, protocol=pickle.HIGHEST_PROTOCOL)\n",
    "with open(os.path.join(data_dir, 'user_book_rating.pickle'), 'wb') as handle:\n",
    "    pickle.dump(user_book_rating, handle, protocol=pickle.HIGHEST_PROTOCOL)"
   ]
  },
  {
   "cell_type": "code",
   "execution_count": 11,
   "metadata": {},
   "outputs": [],
   "source": [
    "with open(os.path.join(data_dir, 'book_user_rating.pickle'), 'rb') as handle:\n",
    "    book_user_rating = pickle.load(handle)\n",
    "with open(os.path.join(data_dir, 'user_book_rating.pickle'), 'rb') as handle:\n",
    "    user_book_rating = pickle.load(handle)"
   ]
  },
  {
   "cell_type": "code",
   "execution_count": 12,
   "metadata": {},
   "outputs": [
    {
     "name": "stderr",
     "output_type": "stream",
     "text": [
      "/home/dong/.conda/envs/reco_gpu/lib/python3.6/site-packages/numpy/core/fromnumeric.py:2920: RuntimeWarning: Mean of empty slice.\n",
      "  out=out, **kwargs)\n",
      "/home/dong/.conda/envs/reco_gpu/lib/python3.6/site-packages/numpy/core/_methods.py:85: RuntimeWarning: invalid value encountered in double_scalars\n",
      "  ret = ret.dtype.type(ret / rcount)\n",
      "/home/dong/.conda/envs/reco_gpu/lib/python3.6/site-packages/numpy/core/_methods.py:140: RuntimeWarning: Degrees of freedom <= 0 for slice\n",
      "  keepdims=keepdims)\n",
      "/home/dong/.conda/envs/reco_gpu/lib/python3.6/site-packages/numpy/core/_methods.py:110: RuntimeWarning: invalid value encountered in true_divide\n",
      "  arrmean, rcount, out=arrmean, casting='unsafe', subok=False)\n",
      "/home/dong/.conda/envs/reco_gpu/lib/python3.6/site-packages/numpy/core/_methods.py:132: RuntimeWarning: invalid value encountered in double_scalars\n",
      "  ret = ret.dtype.type(ret / rcount)\n"
     ]
    },
    {
     "name": "stdout",
     "output_type": "stream",
     "text": [
      "13521\n"
     ]
    }
   ],
   "source": [
    "means = []\n",
    "medians = []\n",
    "stds = []\n",
    "book_rating = {}\n",
    "for b, u_r in book_user_rating.items():\n",
    "    ratings = []\n",
    "\n",
    "    for u, r in u_r.items():\n",
    "        if int(r) != 0:\n",
    "            ratings.append(r)\n",
    "    med = np.median(ratings), \n",
    "    mean = np.mean(ratings)\n",
    "    std = np.std(ratings)\n",
    "    \n",
    "    if mean > 3.5 and std > 0.75 and len(ratings) > 50:\n",
    "        book_rating[b] = [med, mean, std]\n",
    "        means.append(mean)\n",
    "        medians.append(med)\n",
    "        stds.append(std)\n",
    "print(len(book_rating))"
   ]
  },
  {
   "cell_type": "code",
   "execution_count": 13,
   "metadata": {},
   "outputs": [],
   "source": [
    "with open(os.path.join(data_dir, 'book_rating_filtered.pickle'), 'wb') as handle:\n",
    "    pickle.dump(book_rating, handle, protocol=pickle.HIGHEST_PROTOCOL)"
   ]
  },
  {
   "cell_type": "code",
   "execution_count": 14,
   "metadata": {},
   "outputs": [],
   "source": [
    "with open(os.path.join(data_dir, 'book_rating_filtered.pickle'), 'rb') as handle:\n",
    "    book_rating = pickle.load(handle)"
   ]
  },
  {
   "cell_type": "code",
   "execution_count": 15,
   "metadata": {},
   "outputs": [],
   "source": [
    "author_id_name = {}\n",
    "\n",
    "with open(authors_path) as j:\n",
    "    for i, line in enumerate(j):\n",
    "        line = json.loads(line)\n",
    "        author_id = line['author_id']\n",
    "        author_name = line['name']\n",
    "        author_id_name[author_id] = author_name"
   ]
  },
  {
   "cell_type": "code",
   "execution_count": 16,
   "metadata": {},
   "outputs": [],
   "source": [
    "series_id_title_des = {}\n",
    "with open(series_path) as j:\n",
    "    for i, line in enumerate(j):\n",
    "        line = json.loads(line)\n",
    "        series_id = line['series_id']\n",
    "        title = line['title']\n",
    "        description = line['description']\n",
    "        series_id_title_des[series_id] = {'title': '', 'des': ''}\n",
    "        series_id_title_des[series_id]['title'] = title\n",
    "        series_id_title_des[series_id]['des'] = description       "
   ]
  },
  {
   "cell_type": "code",
   "execution_count": 17,
   "metadata": {},
   "outputs": [],
   "source": [
    "def extract_tags(pairs):\n",
    "    tags = []\n",
    "    for pair in pairs:\n",
    "        tag = pair['name']\n",
    "        tags.append(tag)\n",
    "    return tags"
   ]
  },
  {
   "cell_type": "code",
   "execution_count": 18,
   "metadata": {},
   "outputs": [],
   "source": [
    "with open(reviews_path) as j:\n",
    "    with open(os.path.join(data_dir, 'reviews_filtered.csv'), 'w', encoding='utf-8') as r:\n",
    "        writer = csv.writer(r)\n",
    "        for i, line in enumerate(j):\n",
    "            line = json.loads(line)\n",
    "            book_id = line['book_id']\n",
    "            user_id = line['user_id']\n",
    "            \n",
    "            if i == 0:\n",
    "                header = review_header\n",
    "                writer.writerow(header)\n",
    "\n",
    "            if book_id in book_rating.keys() and user_id in user_book_rating.keys():\n",
    "                #print([line[key] for key in header ])\n",
    "                writer.writerow([line[key] for key in header ])"
   ]
  },
  {
   "cell_type": "code",
   "execution_count": 19,
   "metadata": {},
   "outputs": [],
   "source": [
    "with open(books_path) as j:\n",
    "    with open(os.path.join(data_dir, 'books_filtered.csv'), 'w', encoding='utf-8') as r:\n",
    "        writer = csv.writer(r)\n",
    "        for i, line in enumerate(j):\n",
    "            line = json.loads(line)\n",
    "            book_id = line['book_id']\n",
    "            series_ids = line['series']\n",
    "            \n",
    "            if i == 0:\n",
    "                header = book_header\n",
    "                writer.writerow(header)\n",
    "\n",
    "            if book_id in book_rating.keys():\n",
    "                content = []\n",
    "                for key in header:\n",
    "                    if key == \"authors\":\n",
    "                        author_ids = [author['author_id'] for author in line['authors']]\n",
    "                        content.append(author_ids)\n",
    "\n",
    "                    elif key == 'tags':\n",
    "                        content.append(extract_tags(line['popular_shelves']))\n",
    "                    \n",
    "                    elif key == 'series_title':\n",
    "                        titles = []\n",
    "                        for series_id in series_ids:\n",
    "                            title = series_id_title_des[series_id]['title']\n",
    "                            titles.append(title)\n",
    "                        content.append(titles)\n",
    "\n",
    "                    elif key == 'series_description':\n",
    "                        dess = []\n",
    "                        for series_id in series_ids:\n",
    "                            des = series_id_title_des[series_id]['des']\n",
    "                            dess.append(des)\n",
    "                        content.append(dess)\n",
    "                        \n",
    "                    else:\n",
    "                        content.append(line[key])\n",
    "                    \n",
    "                writer.writerow(content)"
   ]
  },
  {
   "cell_type": "code",
   "execution_count": 20,
   "metadata": {},
   "outputs": [
    {
     "data": {
      "text/html": [
       "<div>\n",
       "<style scoped>\n",
       "    .dataframe tbody tr th:only-of-type {\n",
       "        vertical-align: middle;\n",
       "    }\n",
       "\n",
       "    .dataframe tbody tr th {\n",
       "        vertical-align: top;\n",
       "    }\n",
       "\n",
       "    .dataframe thead th {\n",
       "        text-align: right;\n",
       "    }\n",
       "</style>\n",
       "<table border=\"1\" class=\"dataframe\">\n",
       "  <thead>\n",
       "    <tr style=\"text-align: right;\">\n",
       "      <th></th>\n",
       "      <th>book_id</th>\n",
       "      <th>country_code</th>\n",
       "      <th>tags</th>\n",
       "      <th>series_title</th>\n",
       "      <th>series_description</th>\n",
       "      <th>title</th>\n",
       "      <th>title_without_series</th>\n",
       "      <th>average_rating</th>\n",
       "      <th>similar_books</th>\n",
       "      <th>description</th>\n",
       "      <th>authors</th>\n",
       "      <th>publisher</th>\n",
       "      <th>num_pages</th>\n",
       "      <th>publication_year</th>\n",
       "      <th>ratings_count</th>\n",
       "    </tr>\n",
       "  </thead>\n",
       "  <tbody>\n",
       "    <tr>\n",
       "      <th>0</th>\n",
       "      <td>89377</td>\n",
       "      <td>US</td>\n",
       "      <td>['to-read', 'historical-fiction', 'currently-r...</td>\n",
       "      <td>[]</td>\n",
       "      <td>[]</td>\n",
       "      <td>Penny from Heaven</td>\n",
       "      <td>Penny from Heaven</td>\n",
       "      <td>3.98</td>\n",
       "      <td>['614054', '272343', '824934', '581383', '9359...</td>\n",
       "      <td>It's 1953 and 11-year-old Penny dreams of a su...</td>\n",
       "      <td>['137561']</td>\n",
       "      <td>Random House Books for Young Readers</td>\n",
       "      <td>288.0</td>\n",
       "      <td>2006.0</td>\n",
       "      <td>6949</td>\n",
       "    </tr>\n",
       "    <tr>\n",
       "      <th>1</th>\n",
       "      <td>780911</td>\n",
       "      <td>US</td>\n",
       "      <td>['to-read', 'historical-fiction', 'currently-r...</td>\n",
       "      <td>[]</td>\n",
       "      <td>[]</td>\n",
       "      <td>The Crimson Petal and the White</td>\n",
       "      <td>The Crimson Petal and the White</td>\n",
       "      <td>3.87</td>\n",
       "      <td>['1153738', '1038223', '92286', '10387214', '4...</td>\n",
       "      <td>\"Michel Faber leads us back to 1870s London, w...</td>\n",
       "      <td>['16272']</td>\n",
       "      <td>Houghton Mifflin Harcourt</td>\n",
       "      <td>838.0</td>\n",
       "      <td>2002.0</td>\n",
       "      <td>681</td>\n",
       "    </tr>\n",
       "    <tr>\n",
       "      <th>2</th>\n",
       "      <td>958988</td>\n",
       "      <td>US</td>\n",
       "      <td>['to-read', 'historical-romance', 'romance', '...</td>\n",
       "      <td>['Fire']</td>\n",
       "      <td>['']</td>\n",
       "      <td>Princess of Fire (Fire, #1)</td>\n",
       "      <td>Princess of Fire (Fire, #1)</td>\n",
       "      <td>3.89</td>\n",
       "      <td>['1224327', '2123409', '691005', '959223', '10...</td>\n",
       "      <td>\"New York Times\" bestselling author Heather Gr...</td>\n",
       "      <td>['12935']</td>\n",
       "      <td>Zebra</td>\n",
       "      <td>507.0</td>\n",
       "      <td>1994.0</td>\n",
       "      <td>352</td>\n",
       "    </tr>\n",
       "    <tr>\n",
       "      <th>3</th>\n",
       "      <td>388674</td>\n",
       "      <td>US</td>\n",
       "      <td>['to-read', 'mystery', 'historical-fiction', '...</td>\n",
       "      <td>['Ursula Blanchard']</td>\n",
       "      <td>['Series of historical mysteries, set in the r...</td>\n",
       "      <td>To Shield the Queen (Ursula Blanchard, #1)</td>\n",
       "      <td>To Shield the Queen (Ursula Blanchard, #1)</td>\n",
       "      <td>3.72</td>\n",
       "      <td>['612301', '713500', '166679', '27932', '43203...</td>\n",
       "      <td>In this compelling debut of her historical mys...</td>\n",
       "      <td>['33981']</td>\n",
       "      <td>Pocket Books</td>\n",
       "      <td>336.0</td>\n",
       "      <td>1998.0</td>\n",
       "      <td>1371</td>\n",
       "    </tr>\n",
       "    <tr>\n",
       "      <th>4</th>\n",
       "      <td>18711342</td>\n",
       "      <td>US</td>\n",
       "      <td>['to-read', 'romance', 'historical-romance', '...</td>\n",
       "      <td>['Castles Ever After']</td>\n",
       "      <td>['A series featuring heroes and heroines who i...</td>\n",
       "      <td>Romancing the Duke (Castles Ever After, #1)</td>\n",
       "      <td>Romancing the Duke (Castles Ever After, #1)</td>\n",
       "      <td>3.91</td>\n",
       "      <td>['18143986', '11100750', '17290655', '13064395...</td>\n",
       "      <td>In the first in Tessa Dare's captivating Castl...</td>\n",
       "      <td>['2752928']</td>\n",
       "      <td>Avon</td>\n",
       "      <td>405.0</td>\n",
       "      <td>2014.0</td>\n",
       "      <td>1629</td>\n",
       "    </tr>\n",
       "  </tbody>\n",
       "</table>\n",
       "</div>"
      ],
      "text/plain": [
       "    book_id country_code                                               tags  \\\n",
       "0     89377           US  ['to-read', 'historical-fiction', 'currently-r...   \n",
       "1    780911           US  ['to-read', 'historical-fiction', 'currently-r...   \n",
       "2    958988           US  ['to-read', 'historical-romance', 'romance', '...   \n",
       "3    388674           US  ['to-read', 'mystery', 'historical-fiction', '...   \n",
       "4  18711342           US  ['to-read', 'romance', 'historical-romance', '...   \n",
       "\n",
       "             series_title                                 series_description  \\\n",
       "0                      []                                                 []   \n",
       "1                      []                                                 []   \n",
       "2                ['Fire']                                               ['']   \n",
       "3    ['Ursula Blanchard']  ['Series of historical mysteries, set in the r...   \n",
       "4  ['Castles Ever After']  ['A series featuring heroes and heroines who i...   \n",
       "\n",
       "                                         title  \\\n",
       "0                            Penny from Heaven   \n",
       "1              The Crimson Petal and the White   \n",
       "2                  Princess of Fire (Fire, #1)   \n",
       "3   To Shield the Queen (Ursula Blanchard, #1)   \n",
       "4  Romancing the Duke (Castles Ever After, #1)   \n",
       "\n",
       "                          title_without_series  average_rating  \\\n",
       "0                            Penny from Heaven            3.98   \n",
       "1              The Crimson Petal and the White            3.87   \n",
       "2                  Princess of Fire (Fire, #1)            3.89   \n",
       "3   To Shield the Queen (Ursula Blanchard, #1)            3.72   \n",
       "4  Romancing the Duke (Castles Ever After, #1)            3.91   \n",
       "\n",
       "                                       similar_books  \\\n",
       "0  ['614054', '272343', '824934', '581383', '9359...   \n",
       "1  ['1153738', '1038223', '92286', '10387214', '4...   \n",
       "2  ['1224327', '2123409', '691005', '959223', '10...   \n",
       "3  ['612301', '713500', '166679', '27932', '43203...   \n",
       "4  ['18143986', '11100750', '17290655', '13064395...   \n",
       "\n",
       "                                         description      authors  \\\n",
       "0  It's 1953 and 11-year-old Penny dreams of a su...   ['137561']   \n",
       "1  \"Michel Faber leads us back to 1870s London, w...    ['16272']   \n",
       "2  \"New York Times\" bestselling author Heather Gr...    ['12935']   \n",
       "3  In this compelling debut of her historical mys...    ['33981']   \n",
       "4  In the first in Tessa Dare's captivating Castl...  ['2752928']   \n",
       "\n",
       "                              publisher  num_pages  publication_year  \\\n",
       "0  Random House Books for Young Readers      288.0            2006.0   \n",
       "1             Houghton Mifflin Harcourt      838.0            2002.0   \n",
       "2                                 Zebra      507.0            1994.0   \n",
       "3                          Pocket Books      336.0            1998.0   \n",
       "4                                  Avon      405.0            2014.0   \n",
       "\n",
       "   ratings_count  \n",
       "0           6949  \n",
       "1            681  \n",
       "2            352  \n",
       "3           1371  \n",
       "4           1629  "
      ]
     },
     "execution_count": 20,
     "metadata": {},
     "output_type": "execute_result"
    }
   ],
   "source": [
    "books = pd.read_csv(os.path.join(data_dir, 'books_filtered.csv'))\n",
    "books.head()"
   ]
  },
  {
   "cell_type": "code",
   "execution_count": 21,
   "metadata": {},
   "outputs": [
    {
     "data": {
      "text/html": [
       "<div>\n",
       "<style scoped>\n",
       "    .dataframe tbody tr th:only-of-type {\n",
       "        vertical-align: middle;\n",
       "    }\n",
       "\n",
       "    .dataframe tbody tr th {\n",
       "        vertical-align: top;\n",
       "    }\n",
       "\n",
       "    .dataframe thead th {\n",
       "        text-align: right;\n",
       "    }\n",
       "</style>\n",
       "<table border=\"1\" class=\"dataframe\">\n",
       "  <thead>\n",
       "    <tr style=\"text-align: right;\">\n",
       "      <th></th>\n",
       "      <th>user_id</th>\n",
       "      <th>book_id</th>\n",
       "      <th>review_id</th>\n",
       "      <th>is_read</th>\n",
       "      <th>rating</th>\n",
       "      <th>date_updated</th>\n",
       "      <th>review_text_incomplete</th>\n",
       "    </tr>\n",
       "  </thead>\n",
       "  <tbody>\n",
       "    <tr>\n",
       "      <th>0</th>\n",
       "      <td>8842281e1d1347389f2ab93d60773d4d</td>\n",
       "      <td>34467031</td>\n",
       "      <td>e66ba951e2147d34a275bd15c28aed11</td>\n",
       "      <td>False</td>\n",
       "      <td>0</td>\n",
       "      <td>Tue Sep 26 21:22:01 -0700 2017</td>\n",
       "      <td>NaN</td>\n",
       "    </tr>\n",
       "    <tr>\n",
       "      <th>1</th>\n",
       "      <td>8842281e1d1347389f2ab93d60773d4d</td>\n",
       "      <td>23168277</td>\n",
       "      <td>f795721339c198dc958e18dfca5f1e59</td>\n",
       "      <td>False</td>\n",
       "      <td>0</td>\n",
       "      <td>Wed May 31 08:10:01 -0700 2017</td>\n",
       "      <td>NaN</td>\n",
       "    </tr>\n",
       "    <tr>\n",
       "      <th>2</th>\n",
       "      <td>8842281e1d1347389f2ab93d60773d4d</td>\n",
       "      <td>5043</td>\n",
       "      <td>f2dd56e2ea9f2c88fb05a826b6afe95e</td>\n",
       "      <td>False</td>\n",
       "      <td>0</td>\n",
       "      <td>Wed Mar 29 00:26:51 -0700 2017</td>\n",
       "      <td>NaN</td>\n",
       "    </tr>\n",
       "    <tr>\n",
       "      <th>3</th>\n",
       "      <td>8842281e1d1347389f2ab93d60773d4d</td>\n",
       "      <td>31138556</td>\n",
       "      <td>db47e3c64280df37a5167ce5b2264dd4</td>\n",
       "      <td>False</td>\n",
       "      <td>0</td>\n",
       "      <td>Wed Mar 29 14:11:35 -0700 2017</td>\n",
       "      <td>NaN</td>\n",
       "    </tr>\n",
       "    <tr>\n",
       "      <th>4</th>\n",
       "      <td>8842281e1d1347389f2ab93d60773d4d</td>\n",
       "      <td>6480781</td>\n",
       "      <td>c8676124d8829874576fcb868af89315</td>\n",
       "      <td>True</td>\n",
       "      <td>5</td>\n",
       "      <td>Wed Mar 22 11:47:49 -0700 2017</td>\n",
       "      <td>NaN</td>\n",
       "    </tr>\n",
       "  </tbody>\n",
       "</table>\n",
       "</div>"
      ],
      "text/plain": [
       "                            user_id   book_id  \\\n",
       "0  8842281e1d1347389f2ab93d60773d4d  34467031   \n",
       "1  8842281e1d1347389f2ab93d60773d4d  23168277   \n",
       "2  8842281e1d1347389f2ab93d60773d4d      5043   \n",
       "3  8842281e1d1347389f2ab93d60773d4d  31138556   \n",
       "4  8842281e1d1347389f2ab93d60773d4d   6480781   \n",
       "\n",
       "                          review_id  is_read  rating  \\\n",
       "0  e66ba951e2147d34a275bd15c28aed11    False       0   \n",
       "1  f795721339c198dc958e18dfca5f1e59    False       0   \n",
       "2  f2dd56e2ea9f2c88fb05a826b6afe95e    False       0   \n",
       "3  db47e3c64280df37a5167ce5b2264dd4    False       0   \n",
       "4  c8676124d8829874576fcb868af89315     True       5   \n",
       "\n",
       "                     date_updated review_text_incomplete  \n",
       "0  Tue Sep 26 21:22:01 -0700 2017                    NaN  \n",
       "1  Wed May 31 08:10:01 -0700 2017                    NaN  \n",
       "2  Wed Mar 29 00:26:51 -0700 2017                    NaN  \n",
       "3  Wed Mar 29 14:11:35 -0700 2017                    NaN  \n",
       "4  Wed Mar 22 11:47:49 -0700 2017                    NaN  "
      ]
     },
     "execution_count": 21,
     "metadata": {},
     "output_type": "execute_result"
    }
   ],
   "source": [
    "reviews = pd.read_csv(os.path.join(data_dir, 'reviews_filtered.csv'))\n",
    "reviews.head()"
   ]
  },
  {
   "cell_type": "code",
   "execution_count": 22,
   "metadata": {},
   "outputs": [
    {
     "data": {
      "text/plain": [
       "6792251"
      ]
     },
     "execution_count": 22,
     "metadata": {},
     "output_type": "execute_result"
    }
   ],
   "source": [
    "len(reviews)"
   ]
  },
  {
   "cell_type": "code",
   "execution_count": 23,
   "metadata": {},
   "outputs": [
    {
     "data": {
      "text/plain": [
       "13521"
      ]
     },
     "execution_count": 23,
     "metadata": {},
     "output_type": "execute_result"
    }
   ],
   "source": [
    "len(books)"
   ]
  },
  {
   "cell_type": "code",
   "execution_count": null,
   "metadata": {},
   "outputs": [],
   "source": []
  }
 ],
 "metadata": {
  "kernelspec": {
   "display_name": "reco_gpu",
   "language": "python",
   "name": "reco_gpu"
  },
  "language_info": {
   "codemirror_mode": {
    "name": "ipython",
    "version": 3
   },
   "file_extension": ".py",
   "mimetype": "text/x-python",
   "name": "python",
   "nbconvert_exporter": "python",
   "pygments_lexer": "ipython3",
   "version": "3.6.8"
  }
 },
 "nbformat": 4,
 "nbformat_minor": 2
}
