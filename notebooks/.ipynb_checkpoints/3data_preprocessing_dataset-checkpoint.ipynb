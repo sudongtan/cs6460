{
 "cells": [
  {
   "cell_type": "code",
   "execution_count": 19,
   "metadata": {},
   "outputs": [],
   "source": [
    "import json\n",
    "import csv\n",
    "import numpy as np\n",
    "import matplotlib.pyplot as plt\n",
    "import pickle\n",
    "from collections import defaultdict\n",
    "import pandas as pd\n",
    "from datetime import datetime\n",
    "import json\n",
    "from collections import defaultdict\n",
    "import os\n",
    "import gzip\n",
    "import shutil"
   ]
  },
  {
   "cell_type": "code",
   "execution_count": 11,
   "metadata": {},
   "outputs": [],
   "source": [
    "reviews = pd.read_csv('../data_raw/reviews_cleaned.csv')\n",
    "reviews_sorted = reviews.sort_values(by='time')\n",
    "books = pd.read_csv('../data_raw/books_cleaned.csv')\n",
    "books_title = pd.read_csv('../data_raw/books_filtered.csv').set_index('book_id')\n",
    "data_dir = '../data'"
   ]
  },
  {
   "cell_type": "code",
   "execution_count": 37,
   "metadata": {},
   "outputs": [],
   "source": [
    "book_id_idx = {}\n",
    "book_idx_id = {}\n",
    "book_idx_title = {}\n",
    "\n",
    "for book_idx, book_id in enumerate(books['book_id']):\n",
    "    book_id_idx[book_id] = book_idx\n",
    "    book_idx_id[book_idx] = book_id\n",
    "    title = books_title['title'][book_id]\n",
    "    book_idx_title[book_idx] = title\n",
    "    \n",
    "json.dump(book_idx_title, open('../data/book_idx_title.json', 'w'))\n",
    "json.dump(book_id_idx, open('../data/book_id_idx.json', 'w'))\n",
    "json.dump(book_idx_id, open('../data/book_idx_id.json', 'w'))"
   ]
  },
  {
   "cell_type": "code",
   "execution_count": 17,
   "metadata": {},
   "outputs": [],
   "source": [
    "x = reviews_sorted.groupby('user_id')\n",
    "user_id_idx = {}\n",
    "user_idx_id = {}\n",
    "user_idx_book_idx = defaultdict(list)\n",
    "chain_data = defaultdict(dict)\n",
    "\n",
    "for user_idx, (user_id, rows) in enumerate(x):\n",
    "    user_id_idx[user_id] = user_idx\n",
    "    user_idx_id[user_idx] = user_id\n",
    "    \n",
    "    for _, (_, row) in enumerate(rows.iterrows()):\n",
    "        book_id = row['book_id']\n",
    "        rating = row['rating']\n",
    "        book_idx = book_id_idx[book_id]\n",
    "        \n",
    "        if rating > 0:\n",
    "            user_idx_book_idx[user_idx].append(book_idx)\n",
    "\n",
    "        if rating == 0:\n",
    "            chain_data[user_idx][int(book_idx)] = 0\n",
    "        else:\n",
    "            if rating >= 4:\n",
    "                chain_data[user_idx][int(book_idx)] = 2\n",
    "            else:\n",
    "                chain_data[user_idx][int(book_idx)] = 1\n",
    "                \n",
    "json.dump(user_idx_id, open('../data/user_idx_id.json', 'w'))\n",
    "json.dump(user_id_idx, open('../data/user_id_idx.json', 'w'))\n",
    "json.dump(user_idx_book_idx, open('../data/user_idx_book_idx.json', 'w'))"
   ]
  },
  {
   "cell_type": "code",
   "execution_count": 59,
   "metadata": {},
   "outputs": [],
   "source": [
    "with open('../data/book-3stage.user_item_map', 'w') as f:\n",
    "    for user_id, items in chain_data.items():\n",
    "        record = {}\n",
    "        record['user_id'] = user_id\n",
    "        record['items'] = items\n",
    "        f.write(json.dumps(record))\n",
    "        f.write('\\n')\n",
    "\n",
    "with open('../data/book-3stage.user_item_map', 'rb') as f_in:\n",
    "    with gzip.open('../data/book-3stage.user_item_map.gz', 'wb') as f_out:\n",
    "        shutil.copyfileobj(f_in, f_out)\n",
    "os.remove(\"../data/book-3stage.user_item_map\")"
   ]
  },
  {
   "cell_type": "code",
   "execution_count": 57,
   "metadata": {},
   "outputs": [
    {
     "data": {
      "text/plain": [
       "(6792251, 13521, 45963)"
      ]
     },
     "execution_count": 57,
     "metadata": {},
     "output_type": "execute_result"
    }
   ],
   "source": [
    "len(reviews), len(books), len(chain_data)"
   ]
  },
  {
   "cell_type": "code",
   "execution_count": 58,
   "metadata": {},
   "outputs": [
    {
     "data": {
      "text/plain": [
       "(6792251, 0.5438628519470202, 0.3802506709484087)"
      ]
     },
     "execution_count": 58,
     "metadata": {},
     "output_type": "execute_result"
    }
   ],
   "source": [
    "s = reviews['rating']\n",
    "len(s), len(s[s >= 1])/len(s), len(s[s >=4])/len(s)"
   ]
  }
 ],
 "metadata": {
  "kernelspec": {
   "display_name": "reco_gpu",
   "language": "python",
   "name": "reco_gpu"
  },
  "language_info": {
   "codemirror_mode": {
    "name": "ipython",
    "version": 3
   },
   "file_extension": ".py",
   "mimetype": "text/x-python",
   "name": "python",
   "nbconvert_exporter": "python",
   "pygments_lexer": "ipython3",
   "version": "3.6.8"
  }
 },
 "nbformat": 4,
 "nbformat_minor": 2
}
