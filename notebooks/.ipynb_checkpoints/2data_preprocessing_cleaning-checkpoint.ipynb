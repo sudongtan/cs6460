{
 "cells": [
  {
   "cell_type": "code",
   "execution_count": 1,
   "metadata": {},
   "outputs": [],
   "source": [
    "# import json\n",
    "import csv\n",
    "import numpy as np\n",
    "import matplotlib.pyplot as plt\n",
    "import pickle\n",
    "from collections import defaultdict\n",
    "import pandas as pd\n",
    "import os"
   ]
  },
  {
   "cell_type": "code",
   "execution_count": 1,
   "metadata": {},
   "outputs": [],
   "source": [
    "# https://sites.google.com/eng.ucsd.edu/ucsdbookgraph/home\n",
    "books_path = '../data_raw/books_filtered.csv'\n",
    "reviews_path = '../data_raw/reviews_filtered.csv'\n",
    "data_dir = '../data_raw/'"
   ]
  },
  {
   "cell_type": "markdown",
   "metadata": {},
   "source": [
    "# Basic Exploration"
   ]
  },
  {
   "cell_type": "code",
   "execution_count": 3,
   "metadata": {},
   "outputs": [
    {
     "name": "stdout",
     "output_type": "stream",
     "text": [
      "13521\n"
     ]
    }
   ],
   "source": [
    "books = pd.read_csv(books_path)\n",
    "print(len((books)))"
   ]
  },
  {
   "cell_type": "markdown",
   "metadata": {},
   "source": [
    "## Distribution of different features"
   ]
  },
  {
   "cell_type": "code",
   "execution_count": 4,
   "metadata": {},
   "outputs": [
    {
     "data": {
      "text/plain": [
       "count    13521.000000\n",
       "mean         3.949656\n",
       "std          0.195662\n",
       "min          3.500000\n",
       "25%          3.810000\n",
       "50%          3.940000\n",
       "75%          4.090000\n",
       "max          4.760000\n",
       "Name: average_rating, dtype: float64"
      ]
     },
     "execution_count": 4,
     "metadata": {},
     "output_type": "execute_result"
    }
   ],
   "source": [
    "books[\"average_rating\"].describe()"
   ]
  },
  {
   "cell_type": "code",
   "execution_count": 5,
   "metadata": {},
   "outputs": [
    {
     "data": {
      "text/plain": [
       "count    11000.000000\n",
       "mean      2005.319364\n",
       "std          9.202143\n",
       "min       1887.000000\n",
       "25%       2001.000000\n",
       "50%       2007.000000\n",
       "75%       2012.000000\n",
       "max       2017.000000\n",
       "Name: publication_year, dtype: float64"
      ]
     },
     "execution_count": 5,
     "metadata": {},
     "output_type": "execute_result"
    }
   ],
   "source": [
    "books['publication_year'].describe()"
   ]
  },
  {
   "cell_type": "code",
   "execution_count": 6,
   "metadata": {},
   "outputs": [
    {
     "data": {
      "text/plain": [
       "US    13521\n",
       "Name: country_code, dtype: int64"
      ]
     },
     "execution_count": 6,
     "metadata": {},
     "output_type": "execute_result"
    }
   ],
   "source": [
    "books['country_code'].value_counts()"
   ]
  },
  {
   "cell_type": "code",
   "execution_count": 7,
   "metadata": {},
   "outputs": [
    {
     "data": {
      "text/plain": [
       "count    11832.000000\n",
       "mean       376.946586\n",
       "std        239.081189\n",
       "min          0.000000\n",
       "25%        289.000000\n",
       "50%        359.000000\n",
       "75%        424.000000\n",
       "max      14777.000000\n",
       "Name: num_pages, dtype: float64"
      ]
     },
     "execution_count": 7,
     "metadata": {},
     "output_type": "execute_result"
    }
   ],
   "source": [
    "books['num_pages'].describe()"
   ]
  },
  {
   "cell_type": "code",
   "execution_count": 8,
   "metadata": {},
   "outputs": [
    {
     "name": "stdout",
     "output_type": "stream",
     "text": [
      "84\n",
      "79 1712\n"
     ]
    }
   ],
   "source": [
    "p = books['publisher'].apply(lambda x:str(x).split(' ')[0])\n",
    "d = defaultdict(lambda: 0)\n",
    "for key, counts in p.value_counts().items():\n",
    "    d[counts] += 1\n",
    "print(len(d))\n",
    "d = defaultdict(lambda: 0)\n",
    "for key, counts in books['publisher'].value_counts().items():\n",
    "    d[counts] += 1\n",
    "print(len(d), len(books['publisher'].value_counts()))"
   ]
  },
  {
   "cell_type": "markdown",
   "metadata": {},
   "source": [
    "## tags"
   ]
  },
  {
   "cell_type": "code",
   "execution_count": 9,
   "metadata": {},
   "outputs": [],
   "source": [
    "tags = books['tags']"
   ]
  },
  {
   "cell_type": "code",
   "execution_count": 10,
   "metadata": {},
   "outputs": [],
   "source": [
    "all_tags = defaultdict(lambda: 0)\n",
    "for tag in tags:\n",
    "    tags = [s[1:-1] for s in list(tag[1:-1].split(', '))]\n",
    "    for tag in tags:\n",
    "        all_tags[tag] += 1"
   ]
  },
  {
   "cell_type": "code",
   "execution_count": 11,
   "metadata": {},
   "outputs": [
    {
     "name": "stdout",
     "output_type": "stream",
     "text": [
      "107400\n"
     ]
    }
   ],
   "source": [
    "all_tags = list(set(all_tags))\n",
    "print(len(all_tags))"
   ]
  },
  {
   "cell_type": "code",
   "execution_count": 12,
   "metadata": {
    "scrolled": false
   },
   "outputs": [],
   "source": [
    "# all_tags"
   ]
  },
  {
   "cell_type": "markdown",
   "metadata": {},
   "source": [
    "## series and description"
   ]
  },
  {
   "cell_type": "code",
   "execution_count": 13,
   "metadata": {},
   "outputs": [
    {
     "name": "stdout",
     "output_type": "stream",
     "text": [
      "book_id                                                             89377\n",
      "country_code                                                           US\n",
      "tags                    ['to-read', 'historical-fiction', 'currently-r...\n",
      "series_title                                                           []\n",
      "series_description                                                     []\n",
      "title                                                   Penny from Heaven\n",
      "title_without_series                                    Penny from Heaven\n",
      "average_rating                                                       3.98\n",
      "similar_books           ['614054', '272343', '824934', '581383', '9359...\n",
      "description             It's 1953 and 11-year-old Penny dreams of a su...\n",
      "authors                                                        ['137561']\n",
      "publisher                            Random House Books for Young Readers\n",
      "num_pages                                                             288\n",
      "publication_year                                                     2006\n",
      "ratings_count                                                        6949\n",
      "Name: 0, dtype: object\n",
      "Penny from Heaven\n",
      "It's 1953 and 11-year-old Penny dreams of a summer of butter pecan ice cream, swimming, and baseball. But nothing's that easy in Penny's family. For starters, she can't go swimming because her mother's afraid she'll catch polio at the pool. To make matters worse, her favorite uncle is living in a car. Her Nonny cries every time her father's name is mentioned. And the two sides of her family aren't speaking to each other!\n",
      "Inspired by Newbery Honor winner Jennifer Holm's own Italian American family, Penny from Heaven is a shining story about the everyday and the extraordinary, about a time in America's history, not all that long ago, when being Italian meant that you were the enemy. But most of all, it's a story about families--about the things that tear them apart and bring them together. And Holm tells it with all the richness and the layers, the love and the laughter of a Sunday dinner at Nonny's. So pull up a chair and enjoy the feast! Buon appetito!\n",
      "[]\n",
      "[]\n"
     ]
    }
   ],
   "source": [
    "for idx, book in books.iterrows():\n",
    "    print(book)\n",
    "    title = book['title']\n",
    "    description = book['description']\n",
    "    s_title = book['series_title']\n",
    "    s_description = book['series_description']\n",
    "    print(title)\n",
    "    print(description)\n",
    "    print(s_title)\n",
    "    print(s_description)\n",
    "    break"
   ]
  },
  {
   "cell_type": "markdown",
   "metadata": {},
   "source": [
    "# Clean books"
   ]
  },
  {
   "cell_type": "code",
   "execution_count": 14,
   "metadata": {},
   "outputs": [],
   "source": [
    "books['summary'] =  books['title'] + '. ' + books['description'] + '.' + books['series_description'][1:-1]\n",
    "books['publisher'] = books['publisher'].apply(lambda x:str(x).split(' ')[0])\n",
    "book_header = ['book_id', 'summary', 'similar_books', 'authors', 'country_code', 'num_pages', 'publication_year', 'ratings_count', 'average_rating']\n",
    "books_cleaned = books[book_header]\n",
    "books_cleaned.to_csv(os.path.join(data_dir, 'books_cleaned.csv'), index=False)"
   ]
  },
  {
   "cell_type": "code",
   "execution_count": 15,
   "metadata": {},
   "outputs": [
    {
     "data": {
      "text/html": [
       "<div>\n",
       "<style scoped>\n",
       "    .dataframe tbody tr th:only-of-type {\n",
       "        vertical-align: middle;\n",
       "    }\n",
       "\n",
       "    .dataframe tbody tr th {\n",
       "        vertical-align: top;\n",
       "    }\n",
       "\n",
       "    .dataframe thead th {\n",
       "        text-align: right;\n",
       "    }\n",
       "</style>\n",
       "<table border=\"1\" class=\"dataframe\">\n",
       "  <thead>\n",
       "    <tr style=\"text-align: right;\">\n",
       "      <th></th>\n",
       "      <th>book_id</th>\n",
       "      <th>summary</th>\n",
       "      <th>similar_books</th>\n",
       "      <th>authors</th>\n",
       "      <th>country_code</th>\n",
       "      <th>num_pages</th>\n",
       "      <th>publication_year</th>\n",
       "      <th>ratings_count</th>\n",
       "      <th>average_rating</th>\n",
       "    </tr>\n",
       "  </thead>\n",
       "  <tbody>\n",
       "    <tr>\n",
       "      <th>0</th>\n",
       "      <td>89377</td>\n",
       "      <td>NaN</td>\n",
       "      <td>['614054', '272343', '824934', '581383', '9359...</td>\n",
       "      <td>['137561']</td>\n",
       "      <td>US</td>\n",
       "      <td>288.0</td>\n",
       "      <td>2006.0</td>\n",
       "      <td>6949</td>\n",
       "      <td>3.98</td>\n",
       "    </tr>\n",
       "    <tr>\n",
       "      <th>1</th>\n",
       "      <td>780911</td>\n",
       "      <td>The Crimson Petal and the White. \"Michel Faber...</td>\n",
       "      <td>['1153738', '1038223', '92286', '10387214', '4...</td>\n",
       "      <td>['16272']</td>\n",
       "      <td>US</td>\n",
       "      <td>838.0</td>\n",
       "      <td>2002.0</td>\n",
       "      <td>681</td>\n",
       "      <td>3.87</td>\n",
       "    </tr>\n",
       "    <tr>\n",
       "      <th>2</th>\n",
       "      <td>958988</td>\n",
       "      <td>Princess of Fire (Fire, #1). \"New York Times\" ...</td>\n",
       "      <td>['1224327', '2123409', '691005', '959223', '10...</td>\n",
       "      <td>['12935']</td>\n",
       "      <td>US</td>\n",
       "      <td>507.0</td>\n",
       "      <td>1994.0</td>\n",
       "      <td>352</td>\n",
       "      <td>3.89</td>\n",
       "    </tr>\n",
       "    <tr>\n",
       "      <th>3</th>\n",
       "      <td>388674</td>\n",
       "      <td>To Shield the Queen (Ursula Blanchard, #1). In...</td>\n",
       "      <td>['612301', '713500', '166679', '27932', '43203...</td>\n",
       "      <td>['33981']</td>\n",
       "      <td>US</td>\n",
       "      <td>336.0</td>\n",
       "      <td>1998.0</td>\n",
       "      <td>1371</td>\n",
       "      <td>3.72</td>\n",
       "    </tr>\n",
       "    <tr>\n",
       "      <th>4</th>\n",
       "      <td>18711342</td>\n",
       "      <td>Romancing the Duke (Castles Ever After, #1). I...</td>\n",
       "      <td>['18143986', '11100750', '17290655', '13064395...</td>\n",
       "      <td>['2752928']</td>\n",
       "      <td>US</td>\n",
       "      <td>405.0</td>\n",
       "      <td>2014.0</td>\n",
       "      <td>1629</td>\n",
       "      <td>3.91</td>\n",
       "    </tr>\n",
       "  </tbody>\n",
       "</table>\n",
       "</div>"
      ],
      "text/plain": [
       "    book_id                                            summary  \\\n",
       "0     89377                                                NaN   \n",
       "1    780911  The Crimson Petal and the White. \"Michel Faber...   \n",
       "2    958988  Princess of Fire (Fire, #1). \"New York Times\" ...   \n",
       "3    388674  To Shield the Queen (Ursula Blanchard, #1). In...   \n",
       "4  18711342  Romancing the Duke (Castles Ever After, #1). I...   \n",
       "\n",
       "                                       similar_books      authors  \\\n",
       "0  ['614054', '272343', '824934', '581383', '9359...   ['137561']   \n",
       "1  ['1153738', '1038223', '92286', '10387214', '4...    ['16272']   \n",
       "2  ['1224327', '2123409', '691005', '959223', '10...    ['12935']   \n",
       "3  ['612301', '713500', '166679', '27932', '43203...    ['33981']   \n",
       "4  ['18143986', '11100750', '17290655', '13064395...  ['2752928']   \n",
       "\n",
       "  country_code  num_pages  publication_year  ratings_count  average_rating  \n",
       "0           US      288.0            2006.0           6949            3.98  \n",
       "1           US      838.0            2002.0            681            3.87  \n",
       "2           US      507.0            1994.0            352            3.89  \n",
       "3           US      336.0            1998.0           1371            3.72  \n",
       "4           US      405.0            2014.0           1629            3.91  "
      ]
     },
     "execution_count": 15,
     "metadata": {},
     "output_type": "execute_result"
    }
   ],
   "source": [
    "books_cleaned.head()"
   ]
  },
  {
   "cell_type": "markdown",
   "metadata": {},
   "source": [
    "# Clean reviews"
   ]
  },
  {
   "cell_type": "code",
   "execution_count": 16,
   "metadata": {},
   "outputs": [
    {
     "name": "stdout",
     "output_type": "stream",
     "text": [
      "6792251\n"
     ]
    }
   ],
   "source": [
    "reviews = pd.read_csv(reviews_path)\n",
    "print(len((reviews)))"
   ]
  },
  {
   "cell_type": "code",
   "execution_count": 17,
   "metadata": {},
   "outputs": [],
   "source": [
    "reviews_header = ['user_id', 'book_id', 'rating', 'time']#, 'publisher', 'num_pages', 'publication_year']\n",
    "reviews['time'] = reviews['date_updated']\n",
    "reviews_cleaned = reviews[reviews_header]\n",
    "reviews_cleaned.to_csv(os.path.join(data_dir, 'reviews_cleaned.csv'), index=False)"
   ]
  },
  {
   "cell_type": "code",
   "execution_count": 18,
   "metadata": {},
   "outputs": [
    {
     "data": {
      "text/html": [
       "<div>\n",
       "<style scoped>\n",
       "    .dataframe tbody tr th:only-of-type {\n",
       "        vertical-align: middle;\n",
       "    }\n",
       "\n",
       "    .dataframe tbody tr th {\n",
       "        vertical-align: top;\n",
       "    }\n",
       "\n",
       "    .dataframe thead th {\n",
       "        text-align: right;\n",
       "    }\n",
       "</style>\n",
       "<table border=\"1\" class=\"dataframe\">\n",
       "  <thead>\n",
       "    <tr style=\"text-align: right;\">\n",
       "      <th></th>\n",
       "      <th>user_id</th>\n",
       "      <th>book_id</th>\n",
       "      <th>rating</th>\n",
       "      <th>time</th>\n",
       "    </tr>\n",
       "  </thead>\n",
       "  <tbody>\n",
       "    <tr>\n",
       "      <th>0</th>\n",
       "      <td>8842281e1d1347389f2ab93d60773d4d</td>\n",
       "      <td>34467031</td>\n",
       "      <td>0</td>\n",
       "      <td>Tue Sep 26 21:22:01 -0700 2017</td>\n",
       "    </tr>\n",
       "    <tr>\n",
       "      <th>1</th>\n",
       "      <td>8842281e1d1347389f2ab93d60773d4d</td>\n",
       "      <td>23168277</td>\n",
       "      <td>0</td>\n",
       "      <td>Wed May 31 08:10:01 -0700 2017</td>\n",
       "    </tr>\n",
       "    <tr>\n",
       "      <th>2</th>\n",
       "      <td>8842281e1d1347389f2ab93d60773d4d</td>\n",
       "      <td>5043</td>\n",
       "      <td>0</td>\n",
       "      <td>Wed Mar 29 00:26:51 -0700 2017</td>\n",
       "    </tr>\n",
       "    <tr>\n",
       "      <th>3</th>\n",
       "      <td>8842281e1d1347389f2ab93d60773d4d</td>\n",
       "      <td>31138556</td>\n",
       "      <td>0</td>\n",
       "      <td>Wed Mar 29 14:11:35 -0700 2017</td>\n",
       "    </tr>\n",
       "    <tr>\n",
       "      <th>4</th>\n",
       "      <td>8842281e1d1347389f2ab93d60773d4d</td>\n",
       "      <td>6480781</td>\n",
       "      <td>5</td>\n",
       "      <td>Wed Mar 22 11:47:49 -0700 2017</td>\n",
       "    </tr>\n",
       "  </tbody>\n",
       "</table>\n",
       "</div>"
      ],
      "text/plain": [
       "                            user_id   book_id  rating  \\\n",
       "0  8842281e1d1347389f2ab93d60773d4d  34467031       0   \n",
       "1  8842281e1d1347389f2ab93d60773d4d  23168277       0   \n",
       "2  8842281e1d1347389f2ab93d60773d4d      5043       0   \n",
       "3  8842281e1d1347389f2ab93d60773d4d  31138556       0   \n",
       "4  8842281e1d1347389f2ab93d60773d4d   6480781       5   \n",
       "\n",
       "                             time  \n",
       "0  Tue Sep 26 21:22:01 -0700 2017  \n",
       "1  Wed May 31 08:10:01 -0700 2017  \n",
       "2  Wed Mar 29 00:26:51 -0700 2017  \n",
       "3  Wed Mar 29 14:11:35 -0700 2017  \n",
       "4  Wed Mar 22 11:47:49 -0700 2017  "
      ]
     },
     "execution_count": 18,
     "metadata": {},
     "output_type": "execute_result"
    }
   ],
   "source": [
    "reviews_cleaned.head()"
   ]
  }
 ],
 "metadata": {
  "kernelspec": {
   "display_name": "reco_gpu",
   "language": "python",
   "name": "reco_gpu"
  },
  "language_info": {
   "codemirror_mode": {
    "name": "ipython",
    "version": 3
   },
   "file_extension": ".py",
   "mimetype": "text/x-python",
   "name": "python",
   "nbconvert_exporter": "python",
   "pygments_lexer": "ipython3",
   "version": "3.6.8"
  }
 },
 "nbformat": 4,
 "nbformat_minor": 2
}
