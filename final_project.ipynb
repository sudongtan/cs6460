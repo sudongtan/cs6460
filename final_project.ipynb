{
 "cells": [
  {
   "cell_type": "code",
   "execution_count": 1,
   "metadata": {},
   "outputs": [],
   "source": [
    "%load_ext autoreload\n",
    "%autoreload 2\n",
    "from recommend import load_model, recommend\n",
    "import warnings\n",
    "warnings.filterwarnings('ignore')\n"
   ]
  },
  {
   "cell_type": "code",
   "execution_count": 2,
   "metadata": {},
   "outputs": [
    {
     "name": "stdout",
     "output_type": "stream",
     "text": [
      "WARNING:tensorflow:From /home/dong/.conda/envs/rs/lib/python3.6/site-packages/tensorflow/python/framework/op_def_library.py:263: colocate_with (from tensorflow.python.framework.ops) is deprecated and will be removed in a future version.\n",
      "Instructions for updating:\n",
      "Colocations handled automatically by placer.\n",
      "WARNING:tensorflow:From ./src/chainRec.py:121: calling reduce_sum_v1 (from tensorflow.python.ops.math_ops) with keep_dims is deprecated and will be removed in a future version.\n",
      "Instructions for updating:\n",
      "keep_dims is deprecated, use keepdims instead\n",
      "\n",
      "WARNING: The TensorFlow contrib module will not be included in TensorFlow 2.0.\n",
      "For more information, please see:\n",
      "  * https://github.com/tensorflow/community/blob/master/rfcs/20180907-contrib-sunset.md\n",
      "  * https://github.com/tensorflow/addons\n",
      "If you depend on functionality not listed there, please file an issue.\n",
      "\n",
      "WARNING:tensorflow:From /home/dong/.conda/envs/rs/lib/python3.6/site-packages/tensorflow/python/ops/math_ops.py:3066: to_int32 (from tensorflow.python.ops.math_ops) is deprecated and will be removed in a future version.\n",
      "Instructions for updating:\n",
      "Use tf.cast instead.\n",
      "WARNING:tensorflow:From /home/dong/.conda/envs/rs/lib/python3.6/site-packages/tensorflow/python/training/saver.py:1266: checkpoint_exists (from tensorflow.python.training.checkpoint_management) is deprecated and will be removed in a future version.\n",
      "Instructions for updating:\n",
      "Use standard file APIs to check for files with this prefix.\n",
      "INFO:tensorflow:Restoring parameters from ./models/book-3stage.edgeOpt_stage.dim.128.lambda.0.01.lr.0.0001.model.ckpt\n"
     ]
    }
   ],
   "source": [
    "try:\n",
    "    model = load_model()\n",
    "except ValueError:\n",
    "    pass"
   ]
  },
  {
   "cell_type": "markdown",
   "metadata": {},
   "source": [
    "# How to user the recommender system\n",
    "Input requirements:\n",
    " - user_id: int >=0, <= 45962\n",
    " - k (number of items to be recommended): int >=5 < 50\n",
    " - mode: string, 'random', 'interested_only', 'topic'\n",
    "    - 'random': suitable for people who have higher tolerance of opinion diversity\n",
    "    - 'interested only': suitable for people who have lower tolerance of opinion diversity\n",
    "    - 'topic': the recommendations are based on the user's most interested topic"
   ]
  },
  {
   "cell_type": "code",
   "execution_count": 3,
   "metadata": {},
   "outputs": [
    {
     "name": "stdout",
     "output_type": "stream",
     "text": [
      "The system selects candidate books to that you might be interested in\n",
      "The system recommends 10 books to you\n",
      "\n",
      "==========\n",
      "Books you might agree with\n",
      "\n",
      "The Glass-Blowers\n",
      "Messenger of Truth (Maisie Dobbs, #4)\n",
      "Ring of Bright Water (Ring of Bright Water, #1)\n",
      "The Reader\n",
      "Life Among the Savages\n",
      "==========\n",
      "Books you might disagree with\n",
      "\n",
      "The Book Thief\n",
      "Star of the East (Lady Emily, #9.5)\n",
      "Sinful (St. John-Duras, #1)\n",
      "Hell's Angel: The Life and Times of Sonny Barger and the Hell's Angels Motorcycle Club\n",
      "The Devil On Horseback\n"
     ]
    }
   ],
   "source": [
    "user_id = 1235\n",
    "k = 10\n",
    "mode = 'random'\n",
    "books = recommend(model, user_id, k=k, mode=mode)"
   ]
  },
  {
   "cell_type": "code",
   "execution_count": 4,
   "metadata": {},
   "outputs": [
    {
     "name": "stdout",
     "output_type": "stream",
     "text": [
      "The system selects candidate books to that you might be interested in\n",
      "The system recommends 10 books to you\n",
      "\n",
      "==========\n",
      "Books you might agree with\n",
      "\n",
      "Thinking in Pictures: My Life with Autism\n",
      "The Hemingses of Monticello\n",
      "101 Things You Didn't Know About Jane Austen: The Truth about the World's Most Intriguing Romantic Literary Heroine\n",
      "Sarah's Key\n",
      "The Birth of the Pill: How Four Crusaders Reinvented Sex and Launched a Revolution\n",
      "The Silver Blade (French Revolution, #2)\n",
      "==========\n",
      "Books you might disagree with\n",
      "\n",
      "The Secret Passion of Simon Blackwell (McBride Family, #1)\n",
      "Happy Birthday, Kit: A Springtime Story (American Girls: Kit, #4)\n",
      "The Fields of Home (Little Britches, #5)\n",
      "Unveiled (Turner, #1)\n"
     ]
    }
   ],
   "source": [
    "user_id = 456\n",
    "k = 10\n",
    "mode = 'random'\n",
    "books = recommend(model, user_id, k=k, mode=mode)"
   ]
  },
  {
   "cell_type": "code",
   "execution_count": 5,
   "metadata": {},
   "outputs": [
    {
     "name": "stdout",
     "output_type": "stream",
     "text": [
      "The system selects candidate books based on your most interested topic\n",
      "The system recommends 10 books to you\n",
      "\n",
      "==========\n",
      "Books you might agree with\n",
      "\n",
      "The Big Oyster: History on the Half Shell\n",
      "Nazi Germany and the Jews: The Years of Persecution, 1933-1939\n",
      "The Dovekeepers\n",
      "Mary Queen of Scotland and The Isles\n",
      "The Little Book\n",
      "Be Careful What You Wish For (The Clifton Chronicles, #4)\n",
      "The Ugly American\n",
      "==========\n",
      "Books you might disagree with\n",
      "\n",
      "The Garden of Letters\n",
      "The Inquisitor's Tale: Or, the Three Magical Children and Their Holy Dog\n",
      "Makes Me Wanna Holler: A Young Black Man in America\n"
     ]
    }
   ],
   "source": [
    "user_id = 789\n",
    "k = 10\n",
    "mode = 'topic'\n",
    "books = recommend(model, user_id, k=k, mode=mode)"
   ]
  },
  {
   "cell_type": "code",
   "execution_count": 6,
   "metadata": {},
   "outputs": [
    {
     "name": "stdout",
     "output_type": "stream",
     "text": [
      "Number of books to be recommended 'k' should be in [5, 50], got 100\n"
     ]
    }
   ],
   "source": [
    "user_id = 45\n",
    "k = 100\n",
    "mode = 'random'\n",
    "books = recommend(model, user_id, k=k, mode=mode)"
   ]
  },
  {
   "cell_type": "code",
   "execution_count": 9,
   "metadata": {},
   "outputs": [
    {
     "name": "stdout",
     "output_type": "stream",
     "text": [
      "The user id should be in [0, 45962], got 45000000\n"
     ]
    }
   ],
   "source": [
    "user_id = 45000000\n",
    "k = 10\n",
    "mode = 'random'\n",
    "books = recommend(model, user_id, k=k, mode=mode)"
   ]
  },
  {
   "cell_type": "code",
   "execution_count": 8,
   "metadata": {},
   "outputs": [
    {
     "name": "stdout",
     "output_type": "stream",
     "text": [
      "Number of books to be recommended 'k' should be an integer, got <class 'str'>\n"
     ]
    }
   ],
   "source": [
    "user_id = 45\n",
    "k = \"x\"\n",
    "mode = 'mymode'\n",
    "books = recommend(model, user_id, k=k, mode=mode)"
   ]
  },
  {
   "cell_type": "code",
   "execution_count": null,
   "metadata": {},
   "outputs": [],
   "source": []
  }
 ],
 "metadata": {
  "kernelspec": {
   "display_name": "Python 3",
   "language": "python",
   "name": "python3"
  },
  "language_info": {
   "codemirror_mode": {
    "name": "ipython",
    "version": 3
   },
   "file_extension": ".py",
   "mimetype": "text/x-python",
   "name": "python",
   "nbconvert_exporter": "python",
   "pygments_lexer": "ipython3",
   "version": "3.6.8"
  }
 },
 "nbformat": 4,
 "nbformat_minor": 2
}
