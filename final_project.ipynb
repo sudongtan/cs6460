{
 "cells": [
  {
   "cell_type": "code",
   "execution_count": 6,
   "metadata": {},
   "outputs": [
    {
     "name": "stdout",
     "output_type": "stream",
     "text": [
      "The autoreload extension is already loaded. To reload it, use:\n",
      "  %reload_ext autoreload\n"
     ]
    }
   ],
   "source": [
    "%load_ext autoreload\n",
    "%autoreload 2\n",
    "from recommend import load_model, recommend\n",
    "import warnings\n",
    "warnings.filterwarnings('ignore')\n",
    "import tqdm"
   ]
  },
  {
   "cell_type": "code",
   "execution_count": 4,
   "metadata": {},
   "outputs": [
    {
     "name": "stdout",
     "output_type": "stream",
     "text": [
      "WARNING:tensorflow:From ./src/chainRec.py:121: calling reduce_sum (from tensorflow.python.ops.math_ops) with keep_dims is deprecated and will be removed in a future version.\n",
      "Instructions for updating:\n",
      "keep_dims is deprecated, use keepdims instead\n",
      "INFO:tensorflow:Restoring parameters from ./models/book-3stage.edgeOpt_stage.dim.128.lambda.0.01.lr.0.0001.model.ckpt\n"
     ]
    }
   ],
   "source": [
    "try:\n",
    "    model = load_model()\n",
    "except ValueError:\n",
    "    pass"
   ]
  },
  {
   "cell_type": "code",
   "execution_count": 9,
   "metadata": {},
   "outputs": [
    {
     "name": "stdout",
     "output_type": "stream",
     "text": [
      "The system selects 1000 books to you that you might be interested in\n",
      "The system recommends 10 books to you\n",
      "\n",
      "==========\n",
      "Books you might agree with\n",
      "\n",
      "Without You\n",
      "The Lost Army\n",
      "Life from Scratch: A Memoir of Food, Family, and Forgiveness\n",
      "The Heretic's Apprentice (Chronicles of Brother Cadfael, #16)\n",
      "The Pioneer Woman: Black Heels to Tractor Wheels\n",
      "The Tea Girl of Hummingbird Lane\n",
      "==========\n",
      "Books you might disagree with\n",
      "\n",
      "A Race to Splendor\n",
      "Nothing to Be Frightened Of\n",
      "E=mc²: A Biography of the World's Most Famous Equation\n",
      "Springwater Seasons (Springwater, #2-5)\n"
     ]
    }
   ],
   "source": [
    "user_id = 123\n",
    "k = 10\n",
    "mode = 'random'\n",
    "books = recommend(model, user_id, k=k, mode=mode)"
   ]
  },
  {
   "cell_type": "code",
   "execution_count": 10,
   "metadata": {},
   "outputs": [
    {
     "name": "stdout",
     "output_type": "stream",
     "text": [
      "The system recommends 10 books to you\n",
      "\n",
      "==========\n",
      "Books you might agree with\n",
      "\n",
      "Lucky Man\n",
      "The Historian\n",
      "Jerusalem: The Biography\n",
      "Dear Theo\n",
      "Under Enemy Colors (Charles Hayden, #1)\n",
      "All Things New\n",
      "The Invisible Bridge\n",
      "==========\n",
      "Books you might disagree with\n",
      "\n",
      "Unbearable Lightness: A Story of Loss and Gain\n",
      "Life in Motion: An Unlikely Ballerina\n",
      "Golden Age (Last Hundred Years: A Family Saga #3)\n"
     ]
    }
   ],
   "source": [
    "user_id = 123\n",
    "k = 10\n",
    "mode = 'topic'\n",
    "books = recommend(model, user_id, k=k, mode=mode)"
   ]
  },
  {
   "cell_type": "code",
   "execution_count": null,
   "metadata": {},
   "outputs": [],
   "source": []
  }
 ],
 "metadata": {
  "kernelspec": {
   "display_name": "Python 3",
   "language": "python",
   "name": "python3"
  },
  "language_info": {
   "codemirror_mode": {
    "name": "ipython",
    "version": 3
   },
   "file_extension": ".py",
   "mimetype": "text/x-python",
   "name": "python",
   "nbconvert_exporter": "python",
   "pygments_lexer": "ipython3",
   "version": "3.6.8"
  }
 },
 "nbformat": 4,
 "nbformat_minor": 2
}
